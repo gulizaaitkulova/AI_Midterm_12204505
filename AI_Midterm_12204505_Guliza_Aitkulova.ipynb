{
  "nbformat": 4,
  "nbformat_minor": 0,
  "metadata": {
    "colab": {
      "provenance": [],
      "gpuType": "T4",
      "include_colab_link": true
    },
    "kernelspec": {
      "name": "python3",
      "display_name": "Python 3"
    },
    "language_info": {
      "name": "python"
    },
    "accelerator": "GPU"
  },
  "cells": [
    {
      "cell_type": "markdown",
      "metadata": {
        "id": "view-in-github",
        "colab_type": "text"
      },
      "source": [
        "<a href=\"https://colab.research.google.com/github/gulizaaitkulova/AI_Midterm_12204505/blob/main/AI_Midterm_12204505_Guliza_Aitkulova.ipynb\" target=\"_parent\"><img src=\"https://colab.research.google.com/assets/colab-badge.svg\" alt=\"Open In Colab\"/></a>"
      ]
    },
    {
      "cell_type": "code",
      "execution_count": null,
      "metadata": {
        "id": "uQ9GTopGSqlJ"
      },
      "outputs": [],
      "source": [
        "#Load Packages\n",
        "import numpy as np\n",
        "from keras.models import Sequential\n",
        "from keras.layers import Dense\n",
        "from keras.layers import LSTM\n",
        "from keras.layers import Dropout\n",
        "from keras.layers import Activation\n"
      ]
    },
    {
      "cell_type": "code",
      "source": [
        "# Generate Synthetic Data\n",
        "# The size of the generated data will depend on NumSamples and TimeSteps\n",
        "def generate_one_sequence(time_steps = 5, fail_prob = 0.1):\n",
        "  \"\"\"\n",
        "    Generate single sequance data with given time steps and failure probability\n",
        "  \"\"\"\n",
        "  # Randomly assign failure value by probability fail_prob\n",
        "  failure = np.random.choice([0, 1], 1, p=[1 - fail_prob, fail_prob])\n",
        "\n",
        "  tmp_seq = []\n",
        "  vbr_seq = []\n",
        "  spd_seq = []\n",
        "\n",
        "  # According to the failure generate the synthetic data\n",
        "  for _ in range(time_steps):\n",
        "    if failure == 1:\n",
        "      # Generate distinct data for failure cases\n",
        "      tmp = np.random.uniform(100, 150)   # Higher temperature for failure\n",
        "      vbr = np.random.uniform(10, 20)     # Higher vibration for failure\n",
        "      spd = np.random.uniform(0.5, 1)     # Lower speed for failure\n",
        "    else:\n",
        "      # Generate normal data for non-failure cases\n",
        "      tmp = np.random.uniform(50, 100)    # Normal temperature\n",
        "      vbr = np.random.uniform(0, 10)      # Normal vibration\n",
        "      spd = np.random.uniform(1, 5)       # Normal speed\n",
        "\n",
        "    tmp_seq.append(tmp)\n",
        "    vbr_seq.append(vbr)\n",
        "    spd_seq.append(spd)\n",
        "\n",
        "  tmp_seq = np.array(tmp_seq)\n",
        "  vbr_seq = np.array(vbr_seq)\n",
        "  spd_seq = np.array(spd_seq)\n",
        "\n",
        "  return tmp_seq, vbr_seq, spd_seq, failure\n",
        "\n",
        "\n",
        "def generate_sequential_data(num_samples=1000, time_steps=5, fail_prob = 0.1):\n",
        "  \"\"\"\n",
        "    Generate synthetic data for training\n",
        "  \"\"\"\n",
        "  temperatures = []\n",
        "  vibrations = []\n",
        "  conveyor_speeds = []\n",
        "  failures = []\n",
        "\n",
        "  for _ in range(num_samples):\n",
        "    tmp_seq, vbr_seq, spd_seq, failure = generate_one_sequence(time_steps)\n",
        "    temperatures.append(tmp_seq)\n",
        "    vibrations.append(vbr_seq)\n",
        "    conveyor_speeds.append(spd_seq)\n",
        "    failures.append(failure)\n",
        "\n",
        "  temperatures = np.array(temperatures)\n",
        "  vibrations = np.array(vibrations)\n",
        "  conveyor_speeds = np.array(conveyor_speeds)\n",
        "  failures = np.array(failures)\n",
        "\n",
        "  return temperatures, vibrations, conveyor_speeds, failures\n",
        "\n",
        "NumSamples = 500\n",
        "TimeSteps = 5\n",
        "temperatures, vibrations, conveyor_speeds, failures = generate_sequential_data(NumSamples, TimeSteps)"
      ],
      "metadata": {
        "id": "e9VovGfVXnWe"
      },
      "execution_count": null,
      "outputs": []
    },
    {
      "cell_type": "code",
      "source": [
        "# Preprocessing.\n",
        "# Normalize the using StandardScaler. It will compute mean and variance of the data.\n",
        "# After that normalization is done by subtracting mean and dividing by variance\n",
        "from sklearn.preprocessing import StandardScaler\n",
        "\n",
        "scaler_tmp = StandardScaler()\n",
        "temperatures = scaler_tmp.fit_transform(temperatures)\n",
        "\n",
        "scaler_vbr = StandardScaler()\n",
        "vibrations = scaler_vbr.fit_transform(vibrations)\n",
        "\n",
        "scaler_spd = StandardScaler()\n",
        "conveyor_speeds = scaler_spd.fit_transform(conveyor_speeds)"
      ],
      "metadata": {
        "id": "d0-3GgbQeE9E"
      },
      "execution_count": null,
      "outputs": []
    },
    {
      "cell_type": "code",
      "source": [
        "# Split into Train and test set\n",
        "# 90% will be train set and 10% test set\n",
        "split = NumSamples - NumSamples // 10\n",
        "data = np.dstack((temperatures, vibrations, conveyor_speeds))\n",
        "x_train = data[:split]\n",
        "y_train = failures[:split]\n",
        "x_test = data[split:]\n",
        "y_test = failures[split:]"
      ],
      "metadata": {
        "id": "kIPoPS1T1Zoc"
      },
      "execution_count": null,
      "outputs": []
    },
    {
      "cell_type": "code",
      "source": [
        "# Build LSTM Model\n",
        "# The model consists of of single LSTM layer and 3 Dense layers\n",
        "# Activation functions such as Relu and Sigmoid are used.\n",
        "# Moreover, Dropout layer is added to prevent overfitting\n",
        "model = Sequential()\n",
        "model.add(LSTM(8, input_shape=(5,3), return_sequences=False))\n",
        "model.add(Dense(4, kernel_initializer='normal', activation='relu'))\n",
        "model.add(Dropout(0.2))\n",
        "model.add(Dense(2, kernel_initializer='normal', activation='relu'))\n",
        "model.add(Dense(1, kernel_initializer='normal', activation='sigmoid'))"
      ],
      "metadata": {
        "id": "848jwPmyhQ7u"
      },
      "execution_count": null,
      "outputs": []
    },
    {
      "cell_type": "code",
      "source": [
        "# Compile Model\n",
        "# MSE loss and Adam optimizer used to train model\n",
        "model.compile(loss='mse', optimizer ='adam', metrics=['accuracy'])\n",
        "\n",
        "# Train Model for 25 epochs with batch size 5\n",
        "model.fit(x_train, y_train, epochs=25, batch_size=5);"
      ],
      "metadata": {
        "colab": {
          "base_uri": "https://localhost:8080/"
        },
        "id": "iVIJlmONhes8",
        "outputId": "255fe9b3-90ad-48e4-b8da-01a8eb6ba7fe"
      },
      "execution_count": null,
      "outputs": [
        {
          "output_type": "stream",
          "name": "stdout",
          "text": [
            "Epoch 1/25\n",
            "90/90 [==============================] - 6s 7ms/step - loss: 0.2400 - accuracy: 0.8644\n",
            "Epoch 2/25\n",
            "90/90 [==============================] - 0s 5ms/step - loss: 0.1959 - accuracy: 0.8644\n",
            "Epoch 3/25\n",
            "90/90 [==============================] - 0s 5ms/step - loss: 0.1010 - accuracy: 0.8644\n",
            "Epoch 4/25\n",
            "90/90 [==============================] - 0s 5ms/step - loss: 0.0701 - accuracy: 0.8644\n",
            "Epoch 5/25\n",
            "90/90 [==============================] - 0s 5ms/step - loss: 0.0637 - accuracy: 0.8644\n",
            "Epoch 6/25\n",
            "90/90 [==============================] - 0s 5ms/step - loss: 0.0627 - accuracy: 0.8644\n",
            "Epoch 7/25\n",
            "90/90 [==============================] - 0s 5ms/step - loss: 0.0599 - accuracy: 0.8644\n",
            "Epoch 8/25\n",
            "90/90 [==============================] - 0s 5ms/step - loss: 0.0580 - accuracy: 0.8644\n",
            "Epoch 9/25\n",
            "90/90 [==============================] - 0s 5ms/step - loss: 0.0551 - accuracy: 0.8644\n",
            "Epoch 10/25\n",
            "90/90 [==============================] - 1s 6ms/step - loss: 0.0535 - accuracy: 0.8644\n",
            "Epoch 11/25\n",
            "90/90 [==============================] - 1s 6ms/step - loss: 0.0499 - accuracy: 0.8644\n",
            "Epoch 12/25\n",
            "90/90 [==============================] - 1s 6ms/step - loss: 0.0497 - accuracy: 0.8644\n",
            "Epoch 13/25\n",
            "90/90 [==============================] - 1s 6ms/step - loss: 0.0483 - accuracy: 0.8644\n",
            "Epoch 14/25\n",
            "90/90 [==============================] - 0s 5ms/step - loss: 0.0467 - accuracy: 0.8644\n",
            "Epoch 15/25\n",
            "90/90 [==============================] - 0s 4ms/step - loss: 0.0422 - accuracy: 0.8644\n",
            "Epoch 16/25\n",
            "90/90 [==============================] - 0s 5ms/step - loss: 0.0411 - accuracy: 0.9644\n",
            "Epoch 17/25\n",
            "90/90 [==============================] - 0s 5ms/step - loss: 0.0387 - accuracy: 0.9933\n",
            "Epoch 18/25\n",
            "90/90 [==============================] - 0s 5ms/step - loss: 0.0369 - accuracy: 1.0000\n",
            "Epoch 19/25\n",
            "90/90 [==============================] - 0s 5ms/step - loss: 0.0349 - accuracy: 1.0000\n",
            "Epoch 20/25\n",
            "90/90 [==============================] - 0s 5ms/step - loss: 0.0334 - accuracy: 1.0000\n",
            "Epoch 21/25\n",
            "90/90 [==============================] - 0s 5ms/step - loss: 0.0339 - accuracy: 0.9956\n",
            "Epoch 22/25\n",
            "90/90 [==============================] - 0s 5ms/step - loss: 0.0329 - accuracy: 0.9956\n",
            "Epoch 23/25\n",
            "90/90 [==============================] - 0s 5ms/step - loss: 0.0288 - accuracy: 1.0000\n",
            "Epoch 24/25\n",
            "90/90 [==============================] - 0s 5ms/step - loss: 0.0301 - accuracy: 0.9956\n",
            "Epoch 25/25\n",
            "90/90 [==============================] - 0s 5ms/step - loss: 0.0259 - accuracy: 1.0000\n"
          ]
        }
      ]
    },
    {
      "cell_type": "code",
      "source": [
        "# Evaluate Model. Accuracy is used as evaluation metric\n",
        "scores = model.evaluate(x_test, y_test, verbose=1, batch_size=5)\n",
        "print('Accurracy: {}'.format(scores[1]))"
      ],
      "metadata": {
        "colab": {
          "base_uri": "https://localhost:8080/"
        },
        "id": "QTr5gRkdVdcK",
        "outputId": "2f76fa6d-838f-46e7-a279-1aaddc605cd4"
      },
      "execution_count": null,
      "outputs": [
        {
          "output_type": "stream",
          "name": "stdout",
          "text": [
            "10/10 [==============================] - 0s 3ms/step - loss: 0.0103 - accuracy: 1.0000\n",
            "Accurracy: 1.0\n"
          ]
        }
      ]
    },
    {
      "cell_type": "code",
      "source": [
        "# Real-Time simulation, it will run for 10 iterations\n",
        "# If failure is detected the program will notify by printing corresponding message\n",
        "for i in range(10):\n",
        "  tmp_seq, vbr_seq, spd_seq, failure = generate_one_sequence(time_steps = 5, fail_prob = 0.5)\n",
        "  tmp_seq = scaler_tmp.transform(np.expand_dims(tmp_seq, 0))\n",
        "  vbr_seq = scaler_vbr.transform(np.expand_dims(vbr_seq, 0))\n",
        "  spd_seq = scaler_spd.transform(np.expand_dims(spd_seq, 0))\n",
        "  data = np.dstack((tmp_seq, vbr_seq, spd_seq))\n",
        "  res = model.predict(data)\n",
        "  if res[0, 0] > 0.5:\n",
        "    print(\"Failure has been detected\")\n"
      ],
      "metadata": {
        "colab": {
          "base_uri": "https://localhost:8080/"
        },
        "id": "xQoigwNV7Dup",
        "outputId": "d3f171df-88b3-4744-cc3e-a095d573cb86"
      },
      "execution_count": null,
      "outputs": [
        {
          "output_type": "stream",
          "name": "stdout",
          "text": [
            "1/1 [==============================] - 0s 367ms/step\n",
            "Failure has been detected\n",
            "1/1 [==============================] - 0s 23ms/step\n",
            "1/1 [==============================] - 0s 20ms/step\n",
            "1/1 [==============================] - 0s 21ms/step\n",
            "1/1 [==============================] - 0s 22ms/step\n",
            "1/1 [==============================] - 0s 23ms/step\n",
            "Failure has been detected\n",
            "1/1 [==============================] - 0s 21ms/step\n",
            "Failure has been detected\n",
            "1/1 [==============================] - 0s 21ms/step\n",
            "Failure has been detected\n",
            "1/1 [==============================] - 0s 23ms/step\n",
            "Failure has been detected\n",
            "1/1 [==============================] - 0s 21ms/step\n"
          ]
        }
      ]
    }
  ]
}